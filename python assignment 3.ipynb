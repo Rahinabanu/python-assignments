{
 "cells": [
  {
   "cell_type": "code",
   "execution_count": 7,
   "id": "52a10998-c8e7-4254-9c0c-cab606e90d88",
   "metadata": {},
   "outputs": [],
   "source": [
    "##m"
   ]
  },
  {
   "cell_type": "code",
   "execution_count": 131,
   "id": "9a64990b-8c4e-4e57-9273-0beac6a55bfc",
   "metadata": {},
   "outputs": [
    {
     "name": "stdin",
     "output_type": "stream",
     "text": [
      "enter any number between 1 & 12 12\n"
     ]
    },
    {
     "name": "stdout",
     "output_type": "stream",
     "text": [
      "month 12 is December\n"
     ]
    }
   ],
   "source": [
    "## qn 1\n",
    "x=int(input('enter any number between 1 & 12'))\n",
    "      \n",
    "if x==1:\n",
    "        print('month 1 is January')\n",
    "elif x==2:\n",
    "        print('month 2 is February')\n",
    "elif x==3:\n",
    "        print('month 3 is March')\n",
    "elif x==4:\n",
    "        print('month 4 is April')\n",
    "elif x==5:\n",
    "        print('month 5 is May')\n",
    "elif x==6:\n",
    "        print('month 6 is June')\n",
    "elif x==7:\n",
    "        print('month 7 is July')\n",
    "elif x==8:\n",
    "        print('month 8 is August')\n",
    "elif x==9:\n",
    "        print('month 9 is Septemper')\n",
    "elif x==10:\n",
    "        print('month 10 is October')\n",
    "elif x==11:\n",
    "        print('month 11 is November')\n",
    "elif x==12:\n",
    "        print('month 12 is December')\n",
    "else:\n",
    "        print('wrong number')"
   ]
  },
  {
   "cell_type": "code",
   "execution_count": 46,
   "id": "2eae2863-b306-425e-a6c4-bceb86d85279",
   "metadata": {},
   "outputs": [
    {
     "name": "stdin",
     "output_type": "stream",
     "text": [
      "enter your age 12\n"
     ]
    },
    {
     "name": "stdout",
     "output_type": "stream",
     "text": [
      "your ticket cost is $3\n"
     ]
    }
   ],
   "source": [
    "## qn 2,cineme ticket\n",
    "\n",
    "X=int(input('enter your age'))\n",
    "\n",
    "if x<16:\n",
    "    print('your ticket cost is $3')\n",
    "elif x>=60:\n",
    "    print('your ticker cost is $2')\n",
    "else: \n",
    "    print('your ticket cost is $6')"
   ]
  },
  {
   "cell_type": "code",
   "execution_count": 56,
   "id": "268c4b34-8f4d-4796-8577-09f9a2b003da",
   "metadata": {},
   "outputs": [
    {
     "name": "stdin",
     "output_type": "stream",
     "text": [
      "Enter the height in m:  1.57\n",
      "Enter the weight in kg:  53\n"
     ]
    },
    {
     "name": "stdout",
     "output_type": "stream",
     "text": [
      "your BMI is 21.50188648626719\n",
      "Awesome! You are healthy.\n"
     ]
    }
   ],
   "source": [
    "##qn 3\n",
    "height = float(input(\"Enter the height in m: \"))  \n",
    "weight = float(input(\"Enter the weight in kg: \"))\n",
    "\n",
    "\n",
    "BMI = float(weight / (height)**2)\n",
    "\n",
    "\n",
    "print('your BMI is', BMI)\n",
    "\n",
    "if BMI <= 18.5:  \n",
    "    \n",
    "    print('You are in the \"underweight\" range.')  \n",
    "elif BMI <= 24.9:  \n",
    "    print(\"Awesome! You are healthy.\")  \n",
    "elif BMI <= 29.9:  \n",
    "    print('You are in the \"overweight\" range.')  \n",
    "else:  \n",
    "    print(' You are \"obes\".')  "
   ]
  },
  {
   "cell_type": "code",
   "execution_count": 60,
   "id": "a4924a5f-49b8-4813-b944-3edf50e2ee0f",
   "metadata": {},
   "outputs": [
    {
     "name": "stdin",
     "output_type": "stream",
     "text": [
      "enter first number 1\n",
      "enter the second number 2\n",
      "enter the thirsd number 3\n"
     ]
    },
    {
     "name": "stdout",
     "output_type": "stream",
     "text": [
      "The biggest amonth the three is 3\n"
     ]
    }
   ],
   "source": [
    "##qn 4\n",
    "x=int(input('enter first number'))\n",
    "y=int(input('enter the second number'))\n",
    "z=int(input('enter the thirsd number'))\n",
    "\n",
    "if x<y<z:\n",
    "      print('The biggest amonth the three is',z)\n",
    "elif  x>y:\n",
    "      print('the biggest mong three is', x)\n",
    "else:      \n",
    "    print('the biggest among the three is', y)"
   ]
  },
  {
   "cell_type": "code",
   "execution_count": 72,
   "id": "df7c9775-8aae-45b5-a4d6-89e118d91d0e",
   "metadata": {},
   "outputs": [
    {
     "name": "stdin",
     "output_type": "stream",
     "text": [
      "enter a number  5\n"
     ]
    },
    {
     "name": "stdout",
     "output_type": "stream",
     "text": [
      "The factorial of  5 is 120\n"
     ]
    }
   ],
   "source": [
    "##qn 5\n",
    "num=int(input('enter a positive number '))\n",
    "factorial = 1\n",
    "for i in range(1, num + 1):\n",
    "    factorial *= i\n",
    "print('The factorial of ',num ,'is' ,factorial)    "
   ]
  },
  {
   "cell_type": "code",
   "execution_count": 79,
   "id": "190c288f-9408-4586-836c-3708dc2c852a",
   "metadata": {},
   "outputs": [
    {
     "name": "stdin",
     "output_type": "stream",
     "text": [
      "enter a number you want to reverse 534\n"
     ]
    },
    {
     "name": "stdout",
     "output_type": "stream",
     "text": [
      "Reversed Number: 435\n"
     ]
    }
   ],
   "source": [
    "##qn 6\n",
    "num = int(input('enter a number you want to reverse'))\n",
    "reversed_num = 0\n",
    "\n",
    "while num != 0:\n",
    "    digit = num % 10\n",
    "    reversed_num = reversed_num * 10 + digit\n",
    "    num //= 10\n",
    "\n",
    "print(\"Reversed Number: \" + str(reversed_num))"
   ]
  },
  {
   "cell_type": "code",
   "execution_count": 129,
   "id": "6ba3d24b-a4fc-4859-b58c-790d55d54809",
   "metadata": {},
   "outputs": [
    {
     "name": "stdin",
     "output_type": "stream",
     "text": [
      "Enter a Number: 5\n"
     ]
    },
    {
     "name": "stdout",
     "output_type": "stream",
     "text": [
      "5\n",
      "10\n",
      "15\n",
      "20\n",
      "25\n",
      "30\n",
      "35\n",
      "40\n",
      "45\n",
      "50\n"
     ]
    }
   ],
   "source": [
    "##qn 7\n",
    "n= int(input('Enter a Number:'))\n",
    "for i in range (1, 11):\n",
    "    x=n*i\n",
    "    print(x) "
   ]
  },
  {
   "cell_type": "code",
   "execution_count": 118,
   "id": "87040f4e-3337-4a22-b782-dd965ca53084",
   "metadata": {},
   "outputs": [
    {
     "name": "stdin",
     "output_type": "stream",
     "text": [
      "enter a sentence: hi\n",
      "enter a sentence: there\n",
      "enter a sentence: done\n"
     ]
    },
    {
     "name": "stdout",
     "output_type": "stream",
     "text": [
      "done\n"
     ]
    }
   ],
   "source": [
    "##qn 8\n",
    "while True:\n",
    "    a =(input('enter a sentence:'))\n",
    "    if a == \"done\":\n",
    "        print('done')\n",
    "        break\n",
    "    else: continue"
   ]
  },
  {
   "cell_type": "code",
   "execution_count": 116,
   "id": "1962f64a-811b-4638-bdca-7ccb92bc3472",
   "metadata": {},
   "outputs": [
    {
     "name": "stdout",
     "output_type": "stream",
     "text": [
      "1\n",
      "2\n",
      "Fizz\n",
      "4\n",
      "Buzz\n",
      "Fizz\n",
      "7\n",
      "8\n",
      "Fizz\n",
      "Buzz\n"
     ]
    }
   ],
   "source": [
    "###qn 9\n",
    "for i in range(1,11):\n",
    "  \n",
    "  if(i%3==0 and i%5==0):\n",
    "    print(\"FizzBuzz\")\n",
    "  \n",
    "  elif(i%3 == 0):\n",
    "    print(\"Fizz\")\n",
    " \n",
    "  elif(i%5 == 0):\n",
    "    print(\"Buzz\")\n",
    "  \n",
    "  else:\n",
    "    print(i)"
   ]
  },
  {
   "cell_type": "code",
   "execution_count": 123,
   "id": "0ce2ad4c-301b-47e0-bb56-fbbc3ee0ddea",
   "metadata": {},
   "outputs": [
    {
     "name": "stdout",
     "output_type": "stream",
     "text": [
      "54321\n",
      "4321\n",
      "321\n",
      "21\n",
      "1\n"
     ]
    }
   ],
   "source": [
    "##qn 10\n",
    "for i in range(5, 0, -1): \n",
    "   \n",
    "      for j in range(i, 0, -1): \n",
    "      \n",
    "        print(j, end=\"\") \n",
    "   \n",
    "      print() "
   ]
  },
  {
   "cell_type": "code",
   "execution_count": null,
   "id": "c0bfee47-7e2a-4a06-9053-563971c74832",
   "metadata": {},
   "outputs": [],
   "source": []
  }
 ],
 "metadata": {
  "kernelspec": {
   "display_name": "Python [conda env:base] *",
   "language": "python",
   "name": "conda-base-py"
  },
  "language_info": {
   "codemirror_mode": {
    "name": "ipython",
    "version": 3
   },
   "file_extension": ".py",
   "mimetype": "text/x-python",
   "name": "python",
   "nbconvert_exporter": "python",
   "pygments_lexer": "ipython3",
   "version": "3.12.7"
  }
 },
 "nbformat": 4,
 "nbformat_minor": 5
}
