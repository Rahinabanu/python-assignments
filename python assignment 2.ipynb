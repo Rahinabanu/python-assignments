{
 "cells": [
  {
   "cell_type": "code",
   "execution_count": 90,
   "id": "2e1c153d-f1be-4230-b49a-bbc501c9dc5a",
   "metadata": {},
   "outputs": [],
   "source": [
    "# List of 10 random numbers from 1 to 100\n",
    "import random\n",
    "random_list = [random.randint(1, 100) for _ in range(5)]  \n"
   ]
  },
  {
   "cell_type": "code",
   "execution_count": 74,
   "id": "9df8a3d4-0690-4b01-bcf8-c4f0ada14439",
   "metadata": {},
   "outputs": [
    {
     "name": "stdout",
     "output_type": "stream",
     "text": [
      "[49, 70, 33, 73, 18]\n"
     ]
    }
   ],
   "source": [
    "print(random_list)"
   ]
  },
  {
   "cell_type": "code",
   "execution_count": 92,
   "id": "1a8708a7-491c-4e81-b6d2-30b4f6f9a001",
   "metadata": {},
   "outputs": [
    {
     "name": "stdout",
     "output_type": "stream",
     "text": [
      "[73, 25, 30, 80, 63, 32, 42]\n"
     ]
    }
   ],
   "source": [
    "##to add new values to the list\n",
    "random_list.insert(1,25)\n",
    "random_list.insert(2,30)\n",
    "\n",
    "print(random_list)"
   ]
  },
  {
   "cell_type": "code",
   "execution_count": 110,
   "id": "fc50d793-a1e4-49fb-b8af-c65b1af661c5",
   "metadata": {},
   "outputs": [
    {
     "name": "stdout",
     "output_type": "stream",
     "text": [
      "73\n",
      "25\n",
      "30\n",
      "80\n",
      "63\n",
      "32\n",
      "42\n"
     ]
    }
   ],
   "source": [
    "##print all the list elements using loop\n",
    "index = 0  \n",
    "while index < len(random_list):  \n",
    "    print(random_list[index])  \n",
    "    index += 1 "
   ]
  },
  {
   "cell_type": "code",
   "execution_count": 98,
   "id": "8d4a44c1-d0f5-4e19-9666-2a7d878b960a",
   "metadata": {},
   "outputs": [],
   "source": [
    "## creating dictionary\n",
    "\n",
    "person={'name':'John',\n",
    "        'age':'25',\n",
    "        'address':'New york'}"
   ]
  },
  {
   "cell_type": "code",
   "execution_count": 100,
   "id": "31a7a853-e8a4-45e4-b29f-54f1b803064b",
   "metadata": {},
   "outputs": [
    {
     "data": {
      "text/plain": [
       "{'name': 'John', 'age': '25', 'address': 'New york'}"
      ]
     },
     "execution_count": 100,
     "metadata": {},
     "output_type": "execute_result"
    }
   ],
   "source": [
    "person"
   ]
  },
  {
   "cell_type": "code",
   "execution_count": 114,
   "id": "f17368f0-a214-45e2-ba8c-a1c2e1ea0949",
   "metadata": {},
   "outputs": [
    {
     "name": "stdout",
     "output_type": "stream",
     "text": [
      "updated dictionary {'name': 'John', 'age': '25', 'address': 'New york', 'phone': 1234567890}\n"
     ]
    }
   ],
   "source": [
    "##adding new key-value pair to dictionary\n",
    "person['phone']=1234567890\n",
    "\n",
    "print('updated dictionary',person)"
   ]
  },
  {
   "cell_type": "code",
   "execution_count": 138,
   "id": "32824dfe-1454-4adb-9976-c60811ccf54e",
   "metadata": {},
   "outputs": [
    {
     "name": "stdout",
     "output_type": "stream",
     "text": [
      "{'4', '1', '5', '3', '2'}\n"
     ]
    }
   ],
   "source": [
    "## set\n",
    "\n",
    "numbers={'1','2','3','4','5'}\n",
    "print (numbers)"
   ]
  },
  {
   "cell_type": "code",
   "execution_count": 140,
   "id": "a7263173-9c70-41d1-a7c3-88c76e03c77e",
   "metadata": {},
   "outputs": [
    {
     "name": "stdout",
     "output_type": "stream",
     "text": [
      "updated set \"number\"  {6, '4', '1', '5', '3', '2'}\n"
     ]
    }
   ],
   "source": [
    "##to add a new value 6 to the set\n",
    "numbers.add(6)\n",
    "print('updated set \"number\" ' ,numbers)"
   ]
  },
  {
   "cell_type": "code",
   "execution_count": 142,
   "id": "d4bc359f-a273-4c3e-a3aa-3edb141c0c06",
   "metadata": {},
   "outputs": [
    {
     "name": "stdout",
     "output_type": "stream",
     "text": [
      "the updated set \"numbers\" {6, '4', '1', '5', '2'}\n"
     ]
    }
   ],
   "source": [
    "## to remove the number 3 from the set\n",
    "numbers.remove('3')\n",
    "print('the updated set \"numbers\"',numbers)"
   ]
  },
  {
   "cell_type": "code",
   "execution_count": 146,
   "id": "8eddf444-4abb-4d0c-a2f7-0fda9ad63e86",
   "metadata": {},
   "outputs": [
    {
     "name": "stdout",
     "output_type": "stream",
     "text": [
      "The values of the tuple \"tuple_with_numbers\" are ('1', '2', '3', '4')\n"
     ]
    }
   ],
   "source": [
    "##tuple\n",
    "tuple_of_numbers= (\"1\",\"2\",\"3\",\"4\")\n",
    "print('The values of the tuple \"tuple_with_numbers\" are',tuple_of_numbers)"
   ]
  },
  {
   "cell_type": "code",
   "execution_count": 150,
   "id": "a83feb73-ffd6-476e-8512-28f796cad94c",
   "metadata": {},
   "outputs": [
    {
     "data": {
      "text/plain": [
       "4"
      ]
     },
     "execution_count": 150,
     "metadata": {},
     "output_type": "execute_result"
    }
   ],
   "source": [
    "##length of tuple\n",
    "len(tuple_of_numbers)"
   ]
  },
  {
   "cell_type": "code",
   "execution_count": null,
   "id": "497fd975-7b1d-4d8c-a970-167cf2433d51",
   "metadata": {},
   "outputs": [],
   "source": []
  }
 ],
 "metadata": {
  "kernelspec": {
   "display_name": "Python [conda env:base] *",
   "language": "python",
   "name": "conda-base-py"
  },
  "language_info": {
   "codemirror_mode": {
    "name": "ipython",
    "version": 3
   },
   "file_extension": ".py",
   "mimetype": "text/x-python",
   "name": "python",
   "nbconvert_exporter": "python",
   "pygments_lexer": "ipython3",
   "version": "3.12.7"
  }
 },
 "nbformat": 4,
 "nbformat_minor": 5
}
