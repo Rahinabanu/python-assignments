{
 "cells": [
  {
   "cell_type": "code",
   "execution_count": 1,
   "id": "a4b64e68-f8ab-43b9-b23c-9c19d97e82be",
   "metadata": {},
   "outputs": [
    {
     "name": "stdout",
     "output_type": "stream",
     "text": [
      "name : Bob\n",
      "student number :ST1001\n",
      "email : bob@gmail.com\n"
     ]
    }
   ],
   "source": [
    "print(\"name : Bob\")\n",
    "print(\"student number :ST1001\")\n",
    "print(\"email : bob@gmail.com\")"
   ]
  },
  {
   "cell_type": "code",
   "execution_count": 7,
   "id": "fb87b764-1b6c-44c7-9c63-771d96408a48",
   "metadata": {},
   "outputs": [
    {
     "name": "stdout",
     "output_type": "stream",
     "text": [
      "student name: Angel\n",
      "student number: ST001\n",
      "email: angel@gmail.com\n"
     ]
    }
   ],
   "source": [
    " print('student name: Angel\\nstudent number: ST001\\nemail: angel@gmail.com')"
   ]
  },
  {
   "cell_type": "code",
   "execution_count": 17,
   "id": "22ccc4d4-0fa1-489d-a25d-683178f97ae2",
   "metadata": {},
   "outputs": [
    {
     "name": "stdout",
     "output_type": "stream",
     "text": [
      "the sum of 14 & 7 is 21\n",
      "the product of 14 & 7 is 98\n",
      "the difference of 14 & 7 is 7\n",
      "the value of 14 devided by 7 is 2.0\n"
     ]
    }
   ],
   "source": [
    "print('the sum of 14 & 7 is', 14+7)\n",
    "print('the product of 14 & 7 is',14*7)\n",
    "print('the difference of 14 & 7 is',14-7)\n",
    "print('the value of 14 devided by 7 is',14/7)"
   ]
  },
  {
   "cell_type": "code",
   "execution_count": 23,
   "id": "e1c086b0-ebda-4494-bbeb-de5d52351860",
   "metadata": {},
   "outputs": [
    {
     "name": "stdout",
     "output_type": "stream",
     "text": [
      "1 \n",
      "2 \n",
      "3 \n",
      "4 \n",
      "5\n"
     ]
    }
   ],
   "source": [
    "print('1 \\n2 \\n3 \\n4 \\n5')"
   ]
  },
  {
   "cell_type": "code",
   "execution_count": 31,
   "id": "4b4bffa5-b59e-43d0-8638-b02f80a11cd4",
   "metadata": {},
   "outputs": [
    {
     "name": "stdout",
     "output_type": "stream",
     "text": [
      "\"SDK\" stands for \"Software Development Kit\",\n",
      "whereas\n",
      "\"IDE\" stands for \"Integrated Development\n",
      "Environment\".\n"
     ]
    }
   ],
   "source": [
    "print('\"SDK\" stands for \"Software Development Kit\",\\nwhereas\\n\"IDE\" stands for \"Integrated Development\\nEnvironment\".')"
   ]
  },
  {
   "cell_type": "code",
   "execution_count": 39,
   "id": "512559e9-c645-4fcb-8258-78b0a7bac093",
   "metadata": {},
   "outputs": [
    {
     "name": "stdout",
     "output_type": "stream",
     "text": [
      "python is an \"awesome\" language.\n",
      "python\n",
      "\t2023\n",
      "I'm from Entri\n",
      "5\n",
      "e\n",
      "Entri\n",
      "2023\n",
      "Entr2023\n",
      "Entri*20"
     ]
    }
   ],
   "source": [
    "print(\"python is an \\\"awesome\\\" language.\")\n",
    "print(\"python\\n\\t2023\")\n",
    "print('I\\'m from Entri.\\b')\n",
    "print(\"\\65\")\n",
    "print(\"\\x65\")\n",
    "print(\"Entri\", \"2023\", sep=\"\\n\")\n",
    "print(\"Entri\", \"2023\", sep=\"\\b\") \n",
    "print(\"Entri\", \"2023\", sep=\"*\", end=\"\\b\\b\\b\\b\") "
   ]
  },
  {
   "cell_type": "code",
   "execution_count": 59,
   "id": "1963c24c-0d27-4274-8576-20ccf506bd88",
   "metadata": {},
   "outputs": [],
   "source": [
    "num=23\n",
    "textnum=\"53\"\n",
    "decimel=98.3\n",
    "sum=num+decimel"
   ]
  },
  {
   "cell_type": "code",
   "execution_count": 51,
   "id": "428f05c0-9233-437f-9237-d375c29e4667",
   "metadata": {},
   "outputs": [
    {
     "data": {
      "text/plain": [
       "int"
      ]
     },
     "execution_count": 51,
     "metadata": {},
     "output_type": "execute_result"
    }
   ],
   "source": [
    "type(num)\n"
   ]
  },
  {
   "cell_type": "code",
   "execution_count": 53,
   "id": "e6e5b0b9-a816-4803-9615-4e0a4d3587a0",
   "metadata": {},
   "outputs": [
    {
     "data": {
      "text/plain": [
       "str"
      ]
     },
     "execution_count": 53,
     "metadata": {},
     "output_type": "execute_result"
    }
   ],
   "source": [
    "type(textnum)\n"
   ]
  },
  {
   "cell_type": "code",
   "execution_count": 55,
   "id": "2e5b4b57-3f58-4efb-9fea-dec82ee35340",
   "metadata": {},
   "outputs": [
    {
     "data": {
      "text/plain": [
       "float"
      ]
     },
     "execution_count": 55,
     "metadata": {},
     "output_type": "execute_result"
    }
   ],
   "source": [
    "type(decimel)"
   ]
  },
  {
   "cell_type": "code",
   "execution_count": 63,
   "id": "a931b4d4-e4ae-47c6-8c69-12eb63a41810",
   "metadata": {},
   "outputs": [
    {
     "name": "stdout",
     "output_type": "stream",
     "text": [
      "121.3\n"
     ]
    },
    {
     "data": {
      "text/plain": [
       "float"
      ]
     },
     "execution_count": 63,
     "metadata": {},
     "output_type": "execute_result"
    }
   ],
   "source": [
    "print(sum)\n",
    "type(sum)"
   ]
  },
  {
   "cell_type": "code",
   "execution_count": 65,
   "id": "e792514f-542e-4c7f-ad58-77f886e022b6",
   "metadata": {},
   "outputs": [
    {
     "name": "stdout",
     "output_type": "stream",
     "text": [
      "Number of  minutes in one year is 525600\n"
     ]
    }
   ],
   "source": [
    "ndays=365\n",
    "nhours=24\n",
    "nminute=60\n",
    "print('Number of  minutes in one year is',ndays*nhours*nminute)"
   ]
  },
  {
   "cell_type": "code",
   "execution_count": 81,
   "id": "dfa74acb-3622-4c3b-93ce-333d6d12e610",
   "metadata": {},
   "outputs": [
    {
     "name": "stdout",
     "output_type": "stream",
     "text": [
      "Enter your name:\n"
     ]
    },
    {
     "name": "stdin",
     "output_type": "stream",
     "text": [
      " Rahina\n"
     ]
    },
    {
     "name": "stdout",
     "output_type": "stream",
     "text": [
      "hi, Rahina\n"
     ]
    }
   ],
   "source": [
    "\n",
    " print('Enter your name:')\n",
    "x = input()\n",
    "print('hi, ' + x)\n",
    "   "
   ]
  },
  {
   "cell_type": "code",
   "execution_count": null,
   "id": "b48e3100-dc9f-41b0-a379-dae0a717edcb",
   "metadata": {},
   "outputs": [],
   "source": []
  },
  {
   "cell_type": "markdown",
   "id": "8c28628b-9294-46c0-a5a7-ccd6f4848ab9",
   "metadata": {},
   "source": [
    "## pounds to dollars"
   ]
  },
  {
   "cell_type": "code",
   "execution_count": 166,
   "id": "aa564fea-4662-43a5-8839-59d2bff6bb28",
   "metadata": {},
   "outputs": [
    {
     "name": "stdout",
     "output_type": "stream",
     "text": [
      "enter the amount you want to convert\n"
     ]
    },
    {
     "name": "stdin",
     "output_type": "stream",
     "text": [
      " 2\n"
     ]
    },
    {
     "name": "stdout",
     "output_type": "stream",
     "text": [
      "2 ponds are $ 2.46\n"
     ]
    }
   ],
   "source": [
    "\n",
    "print('enter the amount you want to convert')\n",
    "x=int(input())\n",
    "y=float(x*1.23)\n",
    "print(x,'ponds are $',y)"
   ]
  },
  {
   "cell_type": "code",
   "execution_count": null,
   "id": "c51f34f1-141b-46da-a4fb-a4c560131b7b",
   "metadata": {},
   "outputs": [],
   "source": []
  }
 ],
 "metadata": {
  "kernelspec": {
   "display_name": "Python [conda env:base] *",
   "language": "python",
   "name": "conda-base-py"
  },
  "language_info": {
   "codemirror_mode": {
    "name": "ipython",
    "version": 3
   },
   "file_extension": ".py",
   "mimetype": "text/x-python",
   "name": "python",
   "nbconvert_exporter": "python",
   "pygments_lexer": "ipython3",
   "version": "3.12.7"
  }
 },
 "nbformat": 4,
 "nbformat_minor": 5
}
