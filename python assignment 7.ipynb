{
 "cells": [
  {
   "cell_type": "code",
   "execution_count": 11,
   "id": "87b342db-8ec7-4204-a2d4-3207a21bb3c8",
   "metadata": {},
   "outputs": [],
   "source": [
    "import numpy as np\n",
    "import pandas as pd"
   ]
  },
  {
   "cell_type": "code",
   "execution_count": 5,
   "id": "f9ad0925-5130-43ad-8839-fdbdf0305c14",
   "metadata": {},
   "outputs": [
    {
     "name": "stdout",
     "output_type": "stream",
     "text": [
      "[[ 1  2  3  4  5]\n",
      " [ 6  7  8  9 10]]\n"
     ]
    }
   ],
   "source": [
    "#1\n",
    "\n",
    "# Create a NumPy array with numbers from 1 to 10\n",
    "arr = np.arange(1, 11)\n",
    "\n",
    "# Reshape the array into a 2x5 matrix\n",
    "matrix = arr.reshape(2, 5)\n",
    "\n",
    "# Print the reshaped matrix\n",
    "print(matrix)"
   ]
  },
  {
   "cell_type": "code",
   "execution_count": 7,
   "id": "c08a516e-6de0-48ba-9ad8-c61280c660fd",
   "metadata": {},
   "outputs": [
    {
     "name": "stdout",
     "output_type": "stream",
     "text": [
      "[ 6  7  8  9 10 11 12 13 14 15]\n"
     ]
    }
   ],
   "source": [
    "#2\n",
    "\n",
    "# Create a NumPy array with numbers from 1 to 20\n",
    "arr = np.arange(1, 21)\n",
    "\n",
    "# Extract elements between the 5th and 15th index \n",
    "extracted_elements = arr[5:15]\n",
    "\n",
    "# Print the extracted elements\n",
    "print(extracted_elements)"
   ]
  },
  {
   "cell_type": "code",
   "execution_count": 13,
   "id": "49400322-508c-4499-90ca-7ce8b5ccb132",
   "metadata": {},
   "outputs": [
    {
     "name": "stdout",
     "output_type": "stream",
     "text": [
      "apples     3\n",
      "bananas    2\n",
      "oranges    1\n",
      "pears      4\n",
      "dtype: int64\n"
     ]
    }
   ],
   "source": [
    "#3\n",
    "\n",
    "# Create a Pandas Series\n",
    "fruit_series = pd.Series({'apples': 3, 'bananas': 2, 'oranges': 1})\n",
    "\n",
    "# Add a new item to the series\n",
    "fruit_series['pears'] = 4\n",
    "\n",
    "# Print the updated series\n",
    "print(fruit_series)"
   ]
  },
  {
   "cell_type": "code",
   "execution_count": 15,
   "id": "2086c67f-107d-46ba-966c-ac66bb8f03a3",
   "metadata": {},
   "outputs": [
    {
     "name": "stdout",
     "output_type": "stream",
     "text": [
      "      name  age  gender\n",
      "0    Alice   25  Female\n",
      "1      Bob   30    Male\n",
      "2  Charlie   22    Male\n",
      "3    David   28    Male\n",
      "4     Emma   35  Female\n",
      "5    Frank   40    Male\n",
      "6    Grace   27  Female\n",
      "7   Hannah   23  Female\n",
      "8    Isaac   31    Male\n",
      "9     Jack   29    Male\n"
     ]
    }
   ],
   "source": [
    "#4\n",
    "#Create a dataframe with the following columns: name, age, and gender. The dataframe should have 10 rows of data. \n",
    "# Create a dictionary with data\n",
    "data = {\n",
    "    'name': ['Alice', 'Bob', 'Charlie', 'David', 'Emma', 'Frank', 'Grace', 'Hannah', 'Isaac', 'Jack'],\n",
    "    'age': [25, 30, 22, 28, 35, 40, 27, 23, 31, 29],\n",
    "    'gender': ['Female', 'Male', 'Male', 'Male', 'Female', 'Male', 'Female', 'Female', 'Male', 'Male']\n",
    "}\n",
    "\n",
    "# Create a DataFrame\n",
    "df = pd.DataFrame(data)\n",
    "\n",
    "\n",
    "print(df)"
   ]
  },
  {
   "cell_type": "code",
   "execution_count": null,
   "id": "8412a1e2-be4c-4181-aba9-261ffa4f3577",
   "metadata": {},
   "outputs": [],
   "source": [
    "#5\n",
    "# Add a new column to the data frame created aboove, called occupation.\n",
    "#The values for this column should be Programmer, Manager, and Analyst, corresponding to the rows in the dataframe."
   ]
  },
  {
   "cell_type": "code",
   "execution_count": 17,
   "id": "c70037da-3b83-4832-b780-decb1eeabfac",
   "metadata": {},
   "outputs": [
    {
     "name": "stdout",
     "output_type": "stream",
     "text": [
      "      name  age  gender  occupation\n",
      "0    Alice   25  Female  Programmer\n",
      "1      Bob   30    Male     Manager\n",
      "2  Charlie   22    Male     Analyst\n",
      "3    David   28    Male  Programmer\n",
      "4     Emma   35  Female     Manager\n",
      "5    Frank   40    Male     Analyst\n",
      "6    Grace   27  Female  Programmer\n",
      "7   Hannah   23  Female     Manager\n",
      "8    Isaac   31    Male     Analyst\n",
      "9     Jack   29    Male  Programmer\n"
     ]
    }
   ],
   "source": [
    "df['occupation'] = ['Programmer', 'Manager', 'Analyst', 'Programmer', 'Manager', \n",
    "                    'Analyst', 'Programmer', 'Manager', 'Analyst', 'Programmer']\n",
    "\n",
    "# Display the updated DataFrame\n",
    "print(df)"
   ]
  },
  {
   "cell_type": "code",
   "execution_count": null,
   "id": "67b9d946-0521-4a81-b5de-4e4621be0339",
   "metadata": {},
   "outputs": [],
   "source": [
    "#6\n",
    "#Select the rows of the dataframe where the age is greater than or equal to 30."
   ]
  },
  {
   "cell_type": "code",
   "execution_count": 25,
   "id": "f42629fc-53e4-46bc-b763-c4aad3fd874c",
   "metadata": {},
   "outputs": [
    {
     "name": "stdout",
     "output_type": "stream",
     "text": [
      "    name  age  gender occupation\n",
      "1    Bob   30    Male    Manager\n",
      "4   Emma   35  Female    Manager\n",
      "5  Frank   40    Male    Analyst\n",
      "8  Isaac   31    Male    Analyst\n"
     ]
    }
   ],
   "source": [
    "selected_age=df[df['age']>=30]\n",
    "\n",
    "print(selected_age)"
   ]
  },
  {
   "cell_type": "code",
   "execution_count": null,
   "id": "c905a440-9292-4a48-b3b4-cee08649cde6",
   "metadata": {},
   "outputs": [],
   "source": [
    "#7\n",
    "#Convert this dataframe to a csv file and read that csv file, finally display the contents."
   ]
  },
  {
   "cell_type": "code",
   "execution_count": 29,
   "id": "08e201cc-0980-482c-8cb5-868a88771399",
   "metadata": {},
   "outputs": [
    {
     "name": "stdout",
     "output_type": "stream",
     "text": [
      "      name  age  gender  occupation\n",
      "0    Alice   25  Female  Programmer\n",
      "1      Bob   30    Male     Manager\n",
      "2  Charlie   22    Male     Analyst\n",
      "3    David   28    Male  Programmer\n",
      "4     Emma   35  Female     Manager\n",
      "5    Frank   40    Male     Analyst\n",
      "6    Grace   27  Female  Programmer\n",
      "7   Hannah   23  Female     Manager\n",
      "8    Isaac   31    Male     Analyst\n",
      "9     Jack   29    Male  Programmer\n"
     ]
    }
   ],
   "source": [
    "df.to_csv(\"python_7.csv\", index=False)\n",
    "\n",
    "# Read the CSV file\n",
    "df_read = pd.read_csv(\"python_7.csv\")\n",
    "\n",
    "print(df_read)"
   ]
  },
  {
   "cell_type": "code",
   "execution_count": null,
   "id": "8f7e0805-0241-47c8-815a-c950efe3784f",
   "metadata": {},
   "outputs": [],
   "source": []
  }
 ],
 "metadata": {
  "kernelspec": {
   "display_name": "Python [conda env:base] *",
   "language": "python",
   "name": "conda-base-py"
  },
  "language_info": {
   "codemirror_mode": {
    "name": "ipython",
    "version": 3
   },
   "file_extension": ".py",
   "mimetype": "text/x-python",
   "name": "python",
   "nbconvert_exporter": "python",
   "pygments_lexer": "ipython3",
   "version": "3.12.7"
  }
 },
 "nbformat": 4,
 "nbformat_minor": 5
}
