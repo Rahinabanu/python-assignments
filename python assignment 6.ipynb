{
 "cells": [
  {
   "cell_type": "code",
   "execution_count": null,
   "id": "31704b7e-f5c1-44f1-9493-c7e4e98060da",
   "metadata": {},
   "outputs": [],
   "source": [
    "# Build a program to manage a university's course catalog. \n",
    "# You want to define a base class Course that has the following properties: \n",
    "#course_code: a string representing the course code (e.g., \"CS101\") \n",
    "#course_name: a string representing the course name (e.g., \"Introduction to Computer Science\")\n",
    "#credit_hours: an integer representing the credit hours for the course (e.g., 3)\n",
    "#You also want to define two subclasses CoreCourse and ElectiveCourse, which inherit from the Course class. \n",
    "#CoreCourse should have an additional property required_for_major which is a boolean representing whether the course is required for a particular major. \n",
    "#ElectiveCourse should have an additional property elective_type which is a string representing the type of elective (e.g., \"general\", \"technical\", \"liberal arts\")"
   ]
  },
  {
   "cell_type": "code",
   "execution_count": 1,
   "id": "09524194-b94a-4aec-9ef3-56e9edabc50f",
   "metadata": {},
   "outputs": [
    {
     "name": "stdout",
     "output_type": "stream",
     "text": [
      "CS101: Introduction to Computer Science (3 credit hours) - Required for Major\n",
      "ART200: History of Art (3 credit hours) - Elective Type: liberal arts\n"
     ]
    }
   ],
   "source": [
    "#1\n",
    "\n",
    "class Course:\n",
    "    def __init__(self, course_code, course_name, credit_hours):\n",
    "        self.course_code = course_code\n",
    "        self.course_name = course_name\n",
    "        self.credit_hours = credit_hours\n",
    "    \n",
    "    def __str__(self):\n",
    "        return f\"{self.course_code}: {self.course_name} ({self.credit_hours} credit hours)\"\n",
    "\n",
    "class CoreCourse(Course):\n",
    "    def __init__(self, course_code, course_name, credit_hours, required_for_major):\n",
    "        super().__init__(course_code, course_name, credit_hours)\n",
    "        self.required_for_major = required_for_major\n",
    "    \n",
    "    def __str__(self):\n",
    "        status = \"Required\" if self.required_for_major else \"Not Required\"\n",
    "        return f\"{super().__str__()} - {status} for Major\"\n",
    "\n",
    "class ElectiveCourse(Course):\n",
    "    def __init__(self, course_code, course_name, credit_hours, elective_type):\n",
    "        super().__init__(course_code, course_name, credit_hours)\n",
    "        self.elective_type = elective_type\n",
    "    \n",
    "    def __str__(self):\n",
    "        return f\"{super().__str__()} - Elective Type: {self.elective_type}\"\n",
    "\n",
    "\n",
    "core_course = CoreCourse(\"CS101\", \"Introduction to Computer Science\", 3, True)\n",
    "elective_course = ElectiveCourse(\"ART200\", \"History of Art\", 3, \"liberal arts\")\n",
    "\n",
    "print(core_course)\n",
    "print(elective_course)\n"
   ]
  },
  {
   "cell_type": "code",
   "execution_count": null,
   "id": "2b60e7f5-fcdb-40ab-b74e-fcf70bf71b9a",
   "metadata": {},
   "outputs": [],
   "source": []
  },
  {
   "cell_type": "code",
   "execution_count": null,
   "id": "daf58a80-ba5c-4a4c-9e23-6c421ddfeebf",
   "metadata": {},
   "outputs": [],
   "source": [
    "#Create a Python module named employee that contains a class Employee with attributes name, salary and methods get_name() and get_salary(). \n",
    "#Write a program to use this module to create an object of the Employee class and display its name and salary."
   ]
  },
  {
   "cell_type": "code",
   "execution_count": 38,
   "id": "1a11e3f1-7e1e-4b57-a7a7-f9563e3fd5eb",
   "metadata": {},
   "outputs": [],
   "source": [
    "# 2 we should save this this file to the same directory\n",
    "\n",
    "class Employee:\n",
    "    def __init__(self, name, salary):\n",
    "        self.name = name\n",
    "        self.salary = salary\n",
    "\n",
    "    def get_name(self):\n",
    "        return self.name\n",
    "\n",
    "    def get_salary(self):\n",
    "        return self.salary\n",
    "\n",
    "\n",
    "\n"
   ]
  },
  {
   "cell_type": "code",
   "execution_count": 53,
   "id": "fcb36afd-5d22-44b1-850b-ec89c7ecbb2a",
   "metadata": {},
   "outputs": [
    {
     "name": "stdout",
     "output_type": "stream",
     "text": [
      "Employee Name: Alice Johnson\n",
      "Employee Salary: $50000\n"
     ]
    }
   ],
   "source": [
    "from employee import Employee\n",
    "\n",
    "# Create an Employee object\n",
    "emp = Employee(\"Alice Johnson\", 50000)\n",
    "\n",
    "# Display the employee details\n",
    "print(f\"Employee Name: {emp.get_name()}\")\n",
    "print(f\"Employee Salary: ${emp.get_salary()}\")\n"
   ]
  },
  {
   "cell_type": "code",
   "execution_count": 51,
   "id": "8cdcbe66-ae8a-4db8-97ca-a5c913fb3034",
   "metadata": {},
   "outputs": [
    {
     "name": "stdout",
     "output_type": "stream",
     "text": [
      "Overwriting employee.py\n"
     ]
    }
   ],
   "source": [
    "%%writefile employee.py \n",
    "# as i am getting errors again and again, i am using another method to save the file into the same directory\n",
    "class Employee:\n",
    "    def __init__(self, name, salary):\n",
    "        self.name = name\n",
    "        self.salary = salary\n",
    "\n",
    "    def get_name(self):\n",
    "        return self.name\n",
    "\n",
    "    def get_salary(self):\n",
    "        return self.salary"
   ]
  },
  {
   "cell_type": "code",
   "execution_count": null,
   "id": "39563021-dc01-4307-b94f-3910d0952a43",
   "metadata": {},
   "outputs": [],
   "source": []
  },
  {
   "cell_type": "code",
   "execution_count": null,
   "id": "cc14ecac-c75d-4b16-b071-6206fd0660a0",
   "metadata": {},
   "outputs": [],
   "source": []
  },
  {
   "cell_type": "code",
   "execution_count": null,
   "id": "b73540a4-4c92-4de2-a5ac-009626d81bb3",
   "metadata": {},
   "outputs": [],
   "source": []
  }
 ],
 "metadata": {
  "kernelspec": {
   "display_name": "Python [conda env:base] *",
   "language": "python",
   "name": "conda-base-py"
  },
  "language_info": {
   "codemirror_mode": {
    "name": "ipython",
    "version": 3
   },
   "file_extension": ".py",
   "mimetype": "text/x-python",
   "name": "python",
   "nbconvert_exporter": "python",
   "pygments_lexer": "ipython3",
   "version": "3.12.7"
  }
 },
 "nbformat": 4,
 "nbformat_minor": 5
}
