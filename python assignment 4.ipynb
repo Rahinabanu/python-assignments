{
 "cells": [
  {
   "cell_type": "code",
   "execution_count": null,
   "id": "b6e9bfad-fd53-4ab9-a9b8-d8c8c415a371",
   "metadata": {},
   "outputs": [],
   "source": [
    "#The len() function in Python returns the number of items in a list, tuple, array, dictionary, or other data structure. "
   ]
  },
  {
   "cell_type": "code",
   "execution_count": 35,
   "id": "5e530389-20d1-42cf-8672-24950487082a",
   "metadata": {},
   "outputs": [
    {
     "name": "stdout",
     "output_type": "stream",
     "text": [
      "Number of items in the list: 7\n"
     ]
    }
   ],
   "source": [
    "my_list = [1,2,3,4,5,6,7]\n",
    "print('Number of items in the list:', len(my_list))"
   ]
  },
  {
   "cell_type": "code",
   "execution_count": 100,
   "id": "6cfba1f4-eb76-4418-b9e9-1ed40cf4d9d2",
   "metadata": {},
   "outputs": [],
   "source": [
    "def greet():\n",
    "    name = input(\"What is your name? \")\n",
    "    print(\"Hi, \" + name)"
   ]
  },
  {
   "cell_type": "code",
   "execution_count": 102,
   "id": "398a5066-597d-41f9-b924-a485f42cbaa3",
   "metadata": {},
   "outputs": [
    {
     "name": "stdin",
     "output_type": "stream",
     "text": [
      "What is your name?  rahina\n"
     ]
    },
    {
     "name": "stdout",
     "output_type": "stream",
     "text": [
      "Hi, rahina\n"
     ]
    }
   ],
   "source": [
    "greet()"
   ]
  },
  {
   "cell_type": "code",
   "execution_count": 250,
   "id": "13a119a3-59cd-4adc-9084-039f3a54e6c6",
   "metadata": {},
   "outputs": [],
   "source": [
    "def find_maxnumber():\n",
    "  \n",
    "    numbers = [10, 24, 76, 23, 12]\n",
    "    largest = numbers[0]\n",
    "\n",
    "            \n",
    "    for val in numbers:\n",
    "            if val > largest:\n",
    "      \n",
    "              largest = val\n",
    "    print(largest)"
   ]
  },
  {
   "cell_type": "code",
   "execution_count": 252,
   "id": "2aaa3b8c-3208-4723-bdb1-371bba4e1d07",
   "metadata": {},
   "outputs": [
    {
     "name": "stdout",
     "output_type": "stream",
     "text": [
      "76\n"
     ]
    }
   ],
   "source": [
    "find_maxnumber()"
   ]
  },
  {
   "cell_type": "code",
   "execution_count": 256,
   "id": "922c2ff9-af86-43eb-9227-2f8b62707480",
   "metadata": {},
   "outputs": [],
   "source": []
  },
  {
   "cell_type": "code",
   "execution_count": null,
   "id": "2ea2f964-8b8a-45c1-9e3b-276969897e87",
   "metadata": {},
   "outputs": [],
   "source": [
    "# A 'local variable' is defined inside a function and can only be accessed within that function, \n",
    "# A 'global variable' is defined outside any function and can be accessed from anywhere in the program, including within other functions; "
   ]
  },
  {
   "cell_type": "code",
   "execution_count": null,
   "id": "b3b13111-1b3e-4b4c-87c6-f657aa4dbd14",
   "metadata": {},
   "outputs": [],
   "source": []
  },
  {
   "cell_type": "code",
   "execution_count": 260,
   "id": "ff1d5251-7890-45e6-a7ff-bdb2a3385116",
   "metadata": {},
   "outputs": [
    {
     "name": "stdout",
     "output_type": "stream",
     "text": [
      "Local x: 5\n",
      "Global x: 10\n"
     ]
    }
   ],
   "source": [
    "# Global variable\n",
    "x = 10\n",
    "\n",
    "def my_function():\n",
    "    # Local variable \n",
    "    x = 5\n",
    "    print(\"Local x:\", x)  \n",
    "\n",
    "# Calling the function\n",
    "my_function()\n",
    "\n",
    "# Accessing the global variable after function call\n",
    "print(\"Global x:\", x)  # This will refer to the global x"
   ]
  },
  {
   "cell_type": "code",
   "execution_count": 276,
   "id": "1b50ab7d-b98e-46d4-8706-924bb09e87ae",
   "metadata": {},
   "outputs": [],
   "source": [
    "def calculate_area(length, width=5):\n",
    "    return length * width\n",
    "    "
   ]
  },
  {
   "cell_type": "code",
   "execution_count": 278,
   "id": "2254ebe1-0ffb-4ab1-b2fc-9fc3d31b4b6a",
   "metadata": {},
   "outputs": [
    {
     "data": {
      "text/plain": [
       "40"
      ]
     },
     "execution_count": 278,
     "metadata": {},
     "output_type": "execute_result"
    }
   ],
   "source": [
    "calculate_area(10,4)"
   ]
  },
  {
   "cell_type": "code",
   "execution_count": 280,
   "id": "8f89d40d-75f8-48d5-aee0-df60d03f1426",
   "metadata": {},
   "outputs": [
    {
     "data": {
      "text/plain": [
       "50"
      ]
     },
     "execution_count": 280,
     "metadata": {},
     "output_type": "execute_result"
    }
   ],
   "source": [
    "calculate_area(10)"
   ]
  },
  {
   "cell_type": "code",
   "execution_count": null,
   "id": "e3a06650-899a-43ac-99f5-ba66ddc42529",
   "metadata": {},
   "outputs": [],
   "source": []
  },
  {
   "cell_type": "code",
   "execution_count": null,
   "id": "f2a2c5d6-260c-4f3a-8c3c-cd3740e4ba6f",
   "metadata": {},
   "outputs": [],
   "source": []
  },
  {
   "cell_type": "code",
   "execution_count": null,
   "id": "cf2f41b2-4079-4016-9e69-837c4d5b03ac",
   "metadata": {},
   "outputs": [],
   "source": []
  },
  {
   "cell_type": "code",
   "execution_count": null,
   "id": "c6382b7a-1c80-440c-aa44-4d52ea56d61a",
   "metadata": {},
   "outputs": [],
   "source": []
  }
 ],
 "metadata": {
  "kernelspec": {
   "display_name": "Python [conda env:base] *",
   "language": "python",
   "name": "conda-base-py"
  },
  "language_info": {
   "codemirror_mode": {
    "name": "ipython",
    "version": 3
   },
   "file_extension": ".py",
   "mimetype": "text/x-python",
   "name": "python",
   "nbconvert_exporter": "python",
   "pygments_lexer": "ipython3",
   "version": "3.12.7"
  }
 },
 "nbformat": 4,
 "nbformat_minor": 5
}
