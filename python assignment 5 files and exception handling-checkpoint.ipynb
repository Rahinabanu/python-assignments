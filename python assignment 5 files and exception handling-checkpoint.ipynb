{
 "cells": [
  {
   "cell_type": "code",
   "execution_count": null,
   "id": "817df1df-8f54-4fdf-b480-9bdabc6c8fa2",
   "metadata": {},
   "outputs": [],
   "source": [
    "import pandas as pd\n"
   ]
  },
  {
   "cell_type": "code",
   "execution_count": 8,
   "id": "c30fee25-c9c6-4d3a-947f-9f6972a2c56a",
   "metadata": {},
   "outputs": [
    {
     "name": "stdout",
     "output_type": "stream",
     "text": [
      "contents of the file is :\n",
      "hi, this is a demonstration\n"
     ]
    }
   ],
   "source": [
    "#1\n",
    "with open(\"C:/Users/Lenovo/Desktop/DM try.txt\",'r') as file:\n",
    "    content=file.read()\n",
    "    print(\"contents of the file is :\")\n",
    "    print(content)"
   ]
  },
  {
   "cell_type": "code",
   "execution_count": 36,
   "id": "d39d1545-0ac1-498d-a46d-6e8001ad0c5a",
   "metadata": {},
   "outputs": [],
   "source": [
    "#2\n",
    "with open(\"C:/Users/Lenovo/Desktop/DM try.txt\",'r') as firstfile, open(\"C:/Users/Lenovo/Desktop/DM  try2.txt\",'w') as secondfile:\n",
    "    \n",
    "    # read content from first file\n",
    "    for line in firstfile:\n",
    "             \n",
    "             # write content to second file\n",
    "             secondfile.write(line)"
   ]
  },
  {
   "cell_type": "code",
   "execution_count": 44,
   "id": "b3309ba1-b128-4dbe-b5f6-1dafab389499",
   "metadata": {},
   "outputs": [
    {
     "name": "stdout",
     "output_type": "stream",
     "text": [
      "5\n"
     ]
    }
   ],
   "source": [
    "#3\n",
    "number_of_words = 0\n",
    "with open(r\"C:/Users/Lenovo/Desktop/DM try.txt\",'r') as file:\n",
    "\n",
    "    \n",
    "   \n",
    "    data = file.read() # Reading the content of the file storing them into anew variable called 'data'\n",
    "\n",
    "   \n",
    "    lines = data.split() #using slpit function split into separate lines\n",
    "\n",
    "    \n",
    "    number_of_words += len(lines)\n",
    "\n",
    "\n",
    "\n",
    "print(number_of_words)"
   ]
  },
  {
   "cell_type": "code",
   "execution_count": 54,
   "id": "4154ad2b-1d72-4213-a926-aefd90d825d7",
   "metadata": {},
   "outputs": [
    {
     "name": "stdin",
     "output_type": "stream",
     "text": [
      "Enter a number:  23\n"
     ]
    },
    {
     "name": "stdout",
     "output_type": "stream",
     "text": [
      "You entered the number: 23\n"
     ]
    }
   ],
   "source": [
    "#4\n",
    "def get_integer_input():\n",
    "    try:\n",
    "        user_input = input(\"Enter a number: \")  \n",
    "        number = int(user_input) \n",
    "        print(f\"You entered the number: {number}\")\n",
    "    except ValueError:\n",
    "        print(\"Error: Invalid input. Please enter a valid integer.\")\n",
    "    \n",
    "\n",
    "\n",
    "get_integer_input()"
   ]
  },
  {
   "cell_type": "code",
   "execution_count": 58,
   "id": "f22b6d32-f268-4304-810a-417b10aa3699",
   "metadata": {},
   "outputs": [
    {
     "name": "stdin",
     "output_type": "stream",
     "text": [
      "Enter a list of integers separated by spaces:  1 2 3 4\n"
     ]
    },
    {
     "name": "stdout",
     "output_type": "stream",
     "text": [
      "Valid list: [1, 2, 3, 4]\n"
     ]
    }
   ],
   "source": [
    "#5\n",
    "def get_positive_integer_list():\n",
    "    try:\n",
    "        user_input = input(\"Enter a list of integers separated by spaces: \")  \n",
    "        numbers = list(map(int, user_input.split()))  \n",
    "\n",
    "        if any(n < 0 for n in numbers):\n",
    "            raise ValueError(\"Error: Negative numbers are not allowed.\")\n",
    "\n",
    "        print(f\"Valid list: {numbers}\")\n",
    "\n",
    "    except ValueError as e:\n",
    "        print(f\"Exception: {e}\")\n",
    "    except Exception as e:\n",
    "        print(f\"An unexpected error occurred: {e}\")\n",
    "\n",
    "get_positive_integer_list()"
   ]
  },
  {
   "cell_type": "code",
   "execution_count": 60,
   "id": "11fc5958-bd7c-4451-ba30-7d36d3fc5e1c",
   "metadata": {},
   "outputs": [
    {
     "name": "stdin",
     "output_type": "stream",
     "text": [
      "Enter a list of integers separated by spaces:  1 2 3 \n"
     ]
    },
    {
     "name": "stdout",
     "output_type": "stream",
     "text": [
      "The average of the numbers is: 2.0\n",
      "Program has finished running.\n"
     ]
    }
   ],
   "source": [
    "#6\n",
    "def compute_average():\n",
    "    try:\n",
    "        user_input = input(\"Enter a list of integers separated by spaces: \")  \n",
    "        numbers = list(map(int, user_input.split()))  \n",
    "\n",
    "        if not numbers:  \n",
    "            raise ValueError(\"Error: The list cannot be empty.\")\n",
    "\n",
    "        average = sum(numbers) / len(numbers) \n",
    "        print(f\"The average of the numbers is: {average}\")\n",
    "\n",
    "    except ValueError as e:\n",
    "        print(f\"Exception: {e}\")\n",
    "    except ZeroDivisionError:\n",
    "        print(\"Exception: Cannot compute the average of an empty list.\")\n",
    "    except Exception as e:\n",
    "        print(f\"An unexpected error occurred: {e}\")\n",
    "    finally:\n",
    "        print(\"Program has finished running.\")  \n",
    "\n",
    "compute_average()"
   ]
  },
  {
   "cell_type": "code",
   "execution_count": 64,
   "id": "c70c8989-9006-49a0-86c8-5ec07dffd0bd",
   "metadata": {},
   "outputs": [
    {
     "name": "stdin",
     "output_type": "stream",
     "text": [
      "Enter the filename:  \n",
      "Enter the text to write in the file:  \n"
     ]
    },
    {
     "name": "stdout",
     "output_type": "stream",
     "text": [
      "Error: The specified file path is invalid.\n"
     ]
    }
   ],
   "source": [
    "#7\n",
    "\n",
    "def write_to_file():\n",
    "    try:\n",
    "        filename = input(\"Enter the filename: \")  \n",
    "        content = input(\"Enter the text to write in the file: \")  \n",
    "\n",
    "        with open(filename, \"w\", encoding=\"utf-8\") as file:\n",
    "            file.write(content)  \n",
    "        \n",
    "        print(f\"Welcome! The text has been successfully written to '{filename}'.\")\n",
    "\n",
    "    except FileNotFoundError:\n",
    "        print(\"Error: The specified file path is invalid.\")\n",
    "    except PermissionError:\n",
    "        print(\"Error: You don't have permission to write to this file.\")\n",
    "    except Exception as e:\n",
    "        print(f\"An unexpected error occurred: {e}\")\n",
    "\n",
    "\n",
    "write_to_file()"
   ]
  },
  {
   "cell_type": "code",
   "execution_count": null,
   "id": "e072f7f4-a1a8-42cf-8413-ba6be8c5d103",
   "metadata": {},
   "outputs": [],
   "source": []
  }
 ],
 "metadata": {
  "kernelspec": {
   "display_name": "Python [conda env:base] *",
   "language": "python",
   "name": "conda-base-py"
  },
  "language_info": {
   "codemirror_mode": {
    "name": "ipython",
    "version": 3
   },
   "file_extension": ".py",
   "mimetype": "text/x-python",
   "name": "python",
   "nbconvert_exporter": "python",
   "pygments_lexer": "ipython3",
   "version": "3.12.7"
  }
 },
 "nbformat": 4,
 "nbformat_minor": 5
}
